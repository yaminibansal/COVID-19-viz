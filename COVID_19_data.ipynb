{
  "nbformat": 4,
  "nbformat_minor": 0,
  "metadata": {
    "colab": {
      "name": "COVID-19 data.ipynb",
      "provenance": [],
      "collapsed_sections": [],
      "authorship_tag": "ABX9TyOOb2fxV2FLa1cGef3HJcMS",
      "include_colab_link": true
    },
    "kernelspec": {
      "name": "python3",
      "display_name": "Python 3"
    },
    "widgets": {
      "application/vnd.jupyter.widget-state+json": {
        "52d8f1556845452ebeb0b330354806ac": {
          "model_module": "@jupyter-widgets/controls",
          "model_name": "DropdownModel",
          "state": {
            "_options_labels": [
              "Adams, IN",
              "Alachua, FL",
              "Alameda County, CA",
              "Alaska",
              "Alberta",
              "Anhui",
              "Anoka, MN",
              "Arapahoe, CO",
              "Arizona",
              "Arkansas",
              "Arlington, VA",
              "Beadle, SD",
              "Beijing",
              "Bennington County, VT",
              "Bergen County, NJ",
              "Berkshire County, MA",
              "Bernalillo, NM",
              "Bon Homme, SD",
              "Boone, IN",
              "British Columbia",
              "Broward County, FL",
              "Bucks, PA",
              "Burlington, NJ",
              "Calaveras, CA",
              "California",
              "Camden, NC",
              "Camden, NJ",
              "Carver County, MN",
              "Channel Islands",
              "Charles Mix, SD",
              "Charleston County, SC",
              "Charlotte County, FL",
              "Charlton, GA",
              "Chatham County, NC",
              "Cherokee County, GA",
              "Chongqing",
              "Clark County, NV",
              "Clark County, WA",
              "Cobb County, GA",
              "Collier, FL",
              "Collin County, TX",
              "Colorado",
              "Connecticut",
              "Contra Costa County, CA",
              "Cook County, IL",
              "Cuyahoga, OH",
              "Dallas, TX",
              "Dane, WI",
              "Davidson County, TN",
              "Davis County, UT",
              "Davison, SD",
              "DeKalb, GA",
              "Delaware",
              "Delaware County, PA",
              "Denmark",
              "Denver County, CO",
              "Deschutes, OR",
              "Diamond Princess",
              "Diamond Princess",
              "District of Columbia",
              "Douglas County, CO",
              "Douglas County, NE",
              "Douglas County, OR",
              "Eagle, CO",
              "El Paso County, CO",
              "Essex, MA",
              "Fairfax County, VA",
              "Fairfield, CT",
              "Faroe Islands",
              "Fayette County, KY",
              "Fayette, GA",
              "Florida",
              "Floyd, GA",
              "Fort Bend County, TX",
              "France",
              "Fresno County, CA",
              "From Diamond Princess",
              "Fujian",
              "Fulton County, GA",
              "Gansu",
              "Georgia",
              "Gibraltar",
              "Grafton County, NH",
              "Grand Princess",
              "Grant County, WA",
              "Gregg, TX",
              "Guangdong",
              "Guangxi",
              "Guizhou",
              "Gunnison, CO",
              "Gwinnett, GA",
              "Hainan",
              "Hanover, VA",
              "Harford County, MD",
              "Harris County, TX",
              "Harrison County, KY",
              "Hawaii",
              "Hebei",
              "Heilongjiang",
              "Henan",
              "Hendricks County, IN",
              "Hillsborough, FL",
              "Hong Kong",
              "Honolulu County, HI",
              "Howard, IN",
              "Hubei",
              "Hudson County, NJ",
              "Humboldt County, CA",
              "Hunan",
              "Idaho",
              "Illinois",
              "Indiana",
              "Inner Mongolia",
              "Iowa",
              "Island, WA",
              "Jackson County, OR ",
              "Jefferson County, KY",
              "Jefferson County, WA",
              "Jefferson Parish, LA",
              "Jefferson, CO",
              "Jiangsu",
              "Jiangxi",
              "Jilin",
              "Johnson County, IA",
              "Johnson County, KS",
              "Johnson, IN",
              "Kane, IL",
              "Kansas",
              "Kentucky",
              "Kershaw County, SC",
              "King County, WA",
              "Kitsap, WA",
              "Kittitas County, WA",
              "Klamath County, OR",
              "Knox, NE",
              "Lake, IL",
              "Lancaster, SC",
              "Larimer, CO",
              "Lee County, FL",
              "Liaoning",
              "Litchfield, CT",
              "Los Angeles, CA",
              "Loudoun, VA",
              "Louisiana",
              "Macau",
              "Madera County, CA",
              "Maine",
              "Manatee County, FL",
              "Maricopa County, AZ",
              "Marin, CA",
              "Marion County, IN",
              "Marion County, OR",
              "Maryland",
              "Massachusetts",
              "McHenry, IL",
              "Michigan",
              "Middlesex County, MA",
              "Middlesex, NJ",
              "Minnehaha, SD",
              "Minnesota",
              "Mississippi",
              "Missouri",
              "Monmouth, NJ",
              "Monroe, PA",
              "Montana",
              "Montgomery County, MD",
              "Montgomery County, PA",
              "Montgomery, TX",
              "Multnomah, OR",
              "Napa, CA",
              "Nassau County, NY",
              "Nassau, FL",
              "Nebraska",
              "Nevada",
              "New Brunswick",
              "New Castle, DE",
              "New Hampshire",
              "New Jersey",
              "New Mexico",
              "New South Wales",
              "New York",
              "New York County, NY",
              "Ningxia",
              "Noble, IN",
              "Norfolk County, MA",
              "Norfolk, VA",
              "North Carolina",
              "North Dakota",
              "Northern Territory",
              "Oakland, MI",
              "Ohio",
              "Okaloosa County, FL",
              "Oklahoma",
              "Olmsted, MN",
              "Ontario",
              "Orange County, CA",
              "Oregon",
              "Orleans, LA",
              "Pasco, FL",
              "Passaic, NJ",
              "Pennington, SD",
              "Pennsylvania",
              "Philadelphia, PA",
              "Pierce County, WA",
              "Pierce, WI",
              "Pima, AZ",
              "Pinal County, AZ",
              "Pinellas, FL",
              "Placer County, CA",
              "Polk County, GA",
              "Polk, OR",
              "Pottawattamie, IA",
              "Prince George's, MD",
              "Providence County, RI",
              "Qinghai",
              "Quebec",
              "Queensland",
              "Ramsey County, MN",
              "Rhode Island",
              "Riverside County, CA",
              "Rockingham County, NH",
              "Rockland County, NY",
              "Sacramento County, CA",
              "Saint Barthelemy",
              "San Benito, CA",
              "San Diego County, CA",
              "San Francisco County, CA",
              "San Joaquin, CA",
              "San Mateo, CA",
              "Santa Clara County, CA",
              "Santa Cruz, CA",
              "Santa Rosa County, FL",
              "Saratoga County, NY",
              "Shaanxi",
              "Shandong",
              "Shanghai",
              "Shanxi",
              "Shasta County, CA",
              "Shelby County, TN",
              "Sichuan",
              "Skagit, WA",
              "Snohomish County, WA",
              "Socorro, NM",
              "Solano, CA",
              "Sonoma County, CA",
              "South Australia",
              "South Carolina",
              "South Dakota",
              "Spartanburg County, SC",
              "Spotsylvania, VA",
              "St Martin",
              "St. Joseph, IN",
              "St. Louis County, MO",
              "Stanislaus, CA",
              "Stark, OH",
              "Suffolk County, MA",
              "Suffolk County, NY",
              "Sullivan, TN",
              "Summit County, CO",
              "Summit, UT",
              "Tarrant, TX",
              "Tasmania",
              "Tennessee",
              "Texas",
              "Thurston, WA",
              "Tianjin",
              "Tibet",
              "Tulsa County, OK",
              "UK",
              "Ulster County, NY",
              "Umatilla, OR",
              "Union, NJ",
              "Utah",
              "Ventura, CA",
              "Vermont",
              "Victoria",
              "Virginia",
              "Volusia County, FL",
              "Wake County, NC",
              "Washington",
              "Washington County, OR",
              "Washington, D.C.",
              "Washoe County, NV",
              "Wayne County, PA",
              "Wayne, MI",
              "Weber, UT",
              "West Virginia",
              "Westchester County, NY",
              "Western Australia",
              "Whatcom, WA",
              "Williamson County, TN",
              "Wisconsin",
              "Worcester, MA",
              "Wyoming",
              "Xinjiang",
              "Yolo County, CA",
              "Yunnan",
              "Zhejiang"
            ],
            "_view_name": "DropdownView",
            "style": "IPY_MODEL_288a63da263b4308a29e09770a863cdb",
            "_dom_classes": [],
            "description": "",
            "_model_name": "DropdownModel",
            "index": 12,
            "_view_module": "@jupyter-widgets/controls",
            "_model_module_version": "1.5.0",
            "_view_count": null,
            "disabled": false,
            "_view_module_version": "1.5.0",
            "description_tooltip": null,
            "_model_module": "@jupyter-widgets/controls",
            "layout": "IPY_MODEL_c246b2f977c94d05a0b7b48dd35f5bdb"
          }
        },
        "288a63da263b4308a29e09770a863cdb": {
          "model_module": "@jupyter-widgets/controls",
          "model_name": "DescriptionStyleModel",
          "state": {
            "_view_name": "StyleView",
            "_model_name": "DescriptionStyleModel",
            "description_width": "",
            "_view_module": "@jupyter-widgets/base",
            "_model_module_version": "1.5.0",
            "_view_count": null,
            "_view_module_version": "1.2.0",
            "_model_module": "@jupyter-widgets/controls"
          }
        },
        "c246b2f977c94d05a0b7b48dd35f5bdb": {
          "model_module": "@jupyter-widgets/base",
          "model_name": "LayoutModel",
          "state": {
            "_view_name": "LayoutView",
            "grid_template_rows": null,
            "right": null,
            "justify_content": null,
            "_view_module": "@jupyter-widgets/base",
            "overflow": null,
            "_model_module_version": "1.2.0",
            "_view_count": null,
            "flex_flow": null,
            "width": null,
            "min_width": null,
            "border": null,
            "align_items": null,
            "bottom": null,
            "_model_module": "@jupyter-widgets/base",
            "top": null,
            "grid_column": null,
            "overflow_y": null,
            "overflow_x": null,
            "grid_auto_flow": null,
            "grid_area": null,
            "grid_template_columns": null,
            "flex": null,
            "_model_name": "LayoutModel",
            "justify_items": null,
            "grid_row": null,
            "max_height": null,
            "align_content": null,
            "visibility": null,
            "align_self": null,
            "height": null,
            "min_height": null,
            "padding": null,
            "grid_auto_rows": null,
            "grid_gap": null,
            "max_width": null,
            "order": null,
            "_view_module_version": "1.2.0",
            "grid_template_areas": null,
            "object_position": null,
            "object_fit": null,
            "grid_auto_columns": null,
            "margin": null,
            "display": null,
            "left": null
          }
        }
      }
    }
  },
  "cells": [
    {
      "cell_type": "markdown",
      "metadata": {
        "id": "view-in-github",
        "colab_type": "text"
      },
      "source": [
        "<a href=\"https://colab.research.google.com/github/yaminibansal/COVID-19-viz/blob/master/COVID_19_data.ipynb\" target=\"_parent\"><img src=\"https://colab.research.google.com/assets/colab-badge.svg\" alt=\"Open In Colab\"/></a>"
      ]
    },
    {
      "cell_type": "markdown",
      "metadata": {
        "id": "kMCySwYU607G",
        "colab_type": "text"
      },
      "source": [
        "# Visualizing COVID-19 data\n",
        "As the COVID-19 pandemic takes hold, it is important that we use all the tools at our disposal to better understand what is coming... and one way to do that is to look at all the data we are getting from various parts of the world\n",
        "\n",
        "This is a crude notebook that allows you to explore some of this data using basic python tools. The data is imported from the fantastic repository maintained by JHU CSSE https://github.com/CSSEGISandData/COVID-19. If you would like more flexibility in visualizing the data from the pandemic, this might help! \n",
        "\n",
        "This notebook is not intended to provide any commentary/insight into the data, merely to allow you to plot it as you wish. Hope this helps!\n"
      ]
    },
    {
      "cell_type": "code",
      "metadata": {
        "id": "GRmNaoQY4g8Y",
        "colab_type": "code",
        "colab": {}
      },
      "source": [
        "import pandas as pd\n",
        "import numpy as np\n",
        "import matplotlib.pyplot as plt\n",
        "from datetime import datetime, date\n",
        "import matplotlib.dates as mdates"
      ],
      "execution_count": 0,
      "outputs": []
    },
    {
      "cell_type": "code",
      "metadata": {
        "id": "7qM2ggNO5JFA",
        "colab_type": "code",
        "colab": {}
      },
      "source": [
        "confirmed_url = 'https://raw.githubusercontent.com/CSSEGISandData/COVID-19/master/csse_covid_19_data/csse_covid_19_time_series/time_series_19-covid-Confirmed.csv'\n",
        "deaths_url = 'https://raw.githubusercontent.com/CSSEGISandData/COVID-19/master/csse_covid_19_data/csse_covid_19_time_series/time_series_19-covid-Deaths.csv'\n",
        "recovered_url = 'https://raw.githubusercontent.com/CSSEGISandData/COVID-19/master/csse_covid_19_data/csse_covid_19_time_series/time_series_19-covid-Recovered.csv'\n",
        "\n",
        "confirmed_df = pd.read_csv(confirmed_url)\n",
        "deaths_df = pd.read_csv(deaths_url)\n",
        "recovered_df = pd.read_csv(recovered_url)"
      ],
      "execution_count": 0,
      "outputs": []
    },
    {
      "cell_type": "code",
      "metadata": {
        "id": "cTX02a0sEVVn",
        "colab_type": "code",
        "colab": {
          "base_uri": "https://localhost:8080/",
          "height": 34
        },
        "outputId": "2cbecf45-b83d-4f26-e801-dc562e19057d"
      },
      "source": [
        "dates = confirmed_df.columns[4:].values\n",
        "dates_dt = [datetime.strptime(date, '%m/%d/%y') for date in dates]\n",
        "start_date = dates_dt[0]\n",
        "end_date = dates_dt[-1]\n",
        "print(f'Available dates = {start_date.strftime(\"%d %b, %Y\")} to {end_date.strftime(\"%d %b, %Y\")}')"
      ],
      "execution_count": 3,
      "outputs": [
        {
          "output_type": "stream",
          "text": [
            "Available dates = 22 Jan, 2020 to 12 Mar, 2020\n"
          ],
          "name": "stdout"
        }
      ]
    },
    {
      "cell_type": "code",
      "metadata": {
        "id": "5VapirOSJKVe",
        "colab_type": "code",
        "colab": {}
      },
      "source": [
        "locations_list = confirmed_df['Province/State'].values\n",
        "locations_list = np.sort([x for x in locations_list if str(x) != 'nan']) #filter NaN"
      ],
      "execution_count": 0,
      "outputs": []
    },
    {
      "cell_type": "markdown",
      "metadata": {
        "id": "swBQ9bC99xmP",
        "colab_type": "text"
      },
      "source": [
        "# Plot data for a given location and date window "
      ]
    },
    {
      "cell_type": "code",
      "metadata": {
        "id": "o1wQ9-4K_CXL",
        "colab_type": "code",
        "colab": {
          "base_uri": "https://localhost:8080/",
          "height": 103,
          "referenced_widgets": [
            "52d8f1556845452ebeb0b330354806ac",
            "288a63da263b4308a29e09770a863cdb",
            "c246b2f977c94d05a0b7b48dd35f5bdb"
          ]
        },
        "outputId": "e256b9ad-b92f-4548-b15c-45349ff35bca"
      },
      "source": [
        "import ipywidgets as widgets\n",
        "location_picker = widgets.Dropdown(options=locations_list)\n",
        "location_picker"
      ],
      "execution_count": 5,
      "outputs": [
        {
          "output_type": "stream",
          "text": [
            "/usr/local/lib/python3.6/dist-packages/traitlets/traitlets.py:567: FutureWarning: elementwise comparison failed; returning scalar instead, but in the future will perform elementwise comparison\n",
            "  silent = bool(old_value == new_value)\n"
          ],
          "name": "stderr"
        },
        {
          "output_type": "display_data",
          "data": {
            "application/vnd.jupyter.widget-view+json": {
              "model_id": "52d8f1556845452ebeb0b330354806ac",
              "version_minor": 0,
              "version_major": 2
            },
            "text/plain": [
              "Dropdown(options=('Adams, IN', 'Alachua, FL', 'Alameda County, CA', 'Alaska', 'Alberta', 'Anhui', 'Anoka, MN',…"
            ]
          },
          "metadata": {
            "tags": []
          }
        }
      ]
    },
    {
      "cell_type": "code",
      "metadata": {
        "id": "-Gr5OxscCG8g",
        "colab_type": "code",
        "colab": {
          "base_uri": "https://localhost:8080/",
          "height": 34
        },
        "outputId": "799c7d39-dce0-4455-eaae-87cf555544aa"
      },
      "source": [
        "location = location_picker.value\n",
        "print(location)"
      ],
      "execution_count": 6,
      "outputs": [
        {
          "output_type": "stream",
          "text": [
            "Beijing\n"
          ],
          "name": "stdout"
        }
      ]
    },
    {
      "cell_type": "code",
      "metadata": {
        "id": "ua_KNcjhJ5KW",
        "colab_type": "code",
        "colab": {}
      },
      "source": [
        "p1_start_in = '2020-01-25' #@param {type:\"date\"}\n",
        "p1_end_in = '2020-03-12' #@param {type:\"date\"}\n",
        "\n",
        "p1_start_date = datetime.strptime(p1_start_in, '%Y-%m-%d')\n",
        "p1_end_date = datetime.strptime(p1_end_in, '%Y-%m-%d')\n",
        "\n",
        "if p1_start_date<start_date:\n",
        "  p1_start_date = start_date\n",
        "\n",
        "if p1_end_date>end_date:\n",
        "  p1_end_date = end_date\n",
        "\n",
        "start_ind = np.where([date_dt == p1_start_date for date_dt in dates_dt])[0][0]+4\n",
        "end_ind = np.where([date_dt == p1_end_date for date_dt in dates_dt])[0][0]+5\n",
        "date_range_dt = dates_dt[start_ind-4:end_ind-4]"
      ],
      "execution_count": 0,
      "outputs": []
    },
    {
      "cell_type": "code",
      "metadata": {
        "id": "xVwQDq1YO7G3",
        "colab_type": "code",
        "colab": {}
      },
      "source": [
        "confirmed = confirmed_df.loc[confirmed_df['Province/State']==location].iloc[:,start_ind:end_ind].values[0]\n",
        "deaths = deaths_df.loc[deaths_df['Province/State']==location].iloc[:,start_ind:end_ind].values[0]\n",
        "recovered = recovered_df[recovered_df['Province/State']==location].iloc[:,start_ind:end_ind].values[0]"
      ],
      "execution_count": 0,
      "outputs": []
    },
    {
      "cell_type": "markdown",
      "metadata": {
        "id": "vIByFlVdR0TO",
        "colab_type": "text"
      },
      "source": [
        "### ToDo: \n",
        "1. Add dates on the X-axis\n",
        "2. Add multiple locations"
      ]
    },
    {
      "cell_type": "code",
      "metadata": {
        "id": "vAj4ZyHc_cr3",
        "colab_type": "code",
        "colab": {
          "base_uri": "https://localhost:8080/",
          "height": 562
        },
        "outputId": "84845a80-adea-44e1-a94e-a3b5dad603cd"
      },
      "source": [
        "y_label_fs = 22\n",
        "x_label_fs = 22\n",
        "legend_fs = 20\n",
        "y_ticks_fs = 20\n",
        "x_ticks_fs = 20\n",
        "title_fs = 24\n",
        "\n",
        "formatter = mdates.DateFormatter(\"%Y-%m-%d\")\n",
        "\n",
        "fig, (ax1, ax2) = plt.subplots(1, 2, figsize=(20, 8))\n",
        "\n",
        "ax1.xaxis.set_major_formatter(formatter)\n",
        "locator = mdates.DayLocator()\n",
        "ax1.xaxis.set_major_locator(locator)\n",
        "\n",
        "ax1.plot(date_range_dt, confirmed, '-o', label='Confirmed', color='b', lw = 2.5)\n",
        "ax2.plot(date_range_dt[1:], confirmed[1:]-confirmed[:-1], '-o', label='Confirmed', color='b', lw = 2.5)\n",
        "\n",
        "ax1.tick_params(labelsize=x_ticks_fs)\n",
        "ax2.tick_params(labelsize=x_ticks_fs)\n",
        "\n",
        "ax1.set_ylabel('Cumulative cases', fontsize=y_label_fs)\n",
        "ax2.set_ylabel('New cases', fontsize=y_label_fs)\n",
        "\n",
        "ax1.set_xticks(date_range_dt[::5])\n",
        "ax2.set_xticks(date_range_dt[::5])\n",
        "\n",
        "fig.autofmt_xdate()\n",
        "fig.suptitle(f'{location}', fontsize=title_fs)\n",
        "\n",
        "plt.show()"
      ],
      "execution_count": 15,
      "outputs": [
        {
          "output_type": "display_data",
          "data": {
            "image/png": "[encoded data removed]",
            "text/plain": [
              "<Figure size 1440x576 with 2 Axes>"
            ]
          },
          "metadata": {
            "tags": []
          }
        }
      ]
    }
  ]
}